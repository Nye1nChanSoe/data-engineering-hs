{
 "cells": [
  {
   "cell_type": "markdown",
   "id": "ed712d58",
   "metadata": {},
   "source": [
    "https://drive.google.com/file/d/1yy96aoOc8Gqxr99GBYP1ZJIVdfD2Qxv6/view?usp=sharing"
   ]
  },
  {
   "cell_type": "code",
   "execution_count": null,
   "id": "5c2e8664",
   "metadata": {},
   "outputs": [
    {
     "name": "stdout",
     "output_type": "stream",
     "text": [
      "Estimated avg bytes/row: 106.7\n",
      "Target total bytes:      1,000,000,000\n",
      "Total rows needed:       9,375,762\n",
      "Rows per file (base):    187\n",
      "Files with +1 row:       25762\n",
      "Preparing unique IDs...\n",
      "IDs generated\n"
     ]
    },
    {
     "name": "stderr",
     "output_type": "stream",
     "text": [
      "Generating CSV files: 100%|██████████| 50000/50000 [01:26<00:00, 575.22file/s]"
     ]
    },
    {
     "name": "stdout",
     "output_type": "stream",
     "text": [
      "\n",
      "Done.\n",
      "Final size: 1020.8 MB\n"
     ]
    },
    {
     "name": "stderr",
     "output_type": "stream",
     "text": [
      "\n"
     ]
    }
   ],
   "source": [
    "# #!/usr/bin/env python3\n",
    "# import os\n",
    "# import math\n",
    "# import random\n",
    "# import pathlib\n",
    "# from faker import Faker\n",
    "# from datetime import datetime\n",
    "# from tqdm import tqdm  # progress bar\n",
    "\n",
    "# # ------------ Config ------------\n",
    "# OUT_DIR = pathlib.Path(\"generated_small_csvs\")\n",
    "# NUM_FILES = 50_000\n",
    "# TARGET_TOTAL_BYTES = 1_000_000_000  # ~1 GB on disk\n",
    "# SEED = 42  # set to None for non-deterministic\n",
    "# MIN_ITEMS_PER_ROW = 1\n",
    "# MAX_ITEMS_PER_ROW = 12\n",
    "# MAX_ID = 10000000\n",
    "# # --------------------------------\n",
    "\n",
    "# if SEED is not None:\n",
    "#     random.seed(SEED)\n",
    "\n",
    "# fake = Faker(\"en_US\")\n",
    "# if SEED is not None:\n",
    "#     Faker.seed(SEED)\n",
    "\n",
    "# # Categories\n",
    "# CATEGORIES = [\"Food\", \"Toys\", \"Electronics\", \"Books\", \"Stationery\", \"Tools\"]\n",
    "\n",
    "# # Balanced items across categories\n",
    "# ITEMS_BY_CATEGORY = {\n",
    "#     \"Food\": [\n",
    "#         \"whole milk\",\n",
    "#         \"yogurt\",\n",
    "#         \"cream cheese\",\n",
    "#         \"bottled water\",\n",
    "#         \"soda\",\n",
    "#         \"tropical fruit\",\n",
    "#         \"citrus fruit\",\n",
    "#         \"berries\",\n",
    "#         \"semi-finished bread\",\n",
    "#         \"rolls/buns\",\n",
    "#         \"chocolate\",\n",
    "#         \"bottled beer\",\n",
    "#     ],\n",
    "#     \"Toys\": [\n",
    "#         \"building blocks\",\n",
    "#         \"action figure\",\n",
    "#         \"doll\",\n",
    "#         \"puzzle\",\n",
    "#         \"board game\",\n",
    "#         \"toy car\",\n",
    "#         \"plush bear\",\n",
    "#         \"yo-yo\",\n",
    "#         \"kite\",\n",
    "#         \"water gun\",\n",
    "#         \"RC drone\",\n",
    "#         \"slime\",\n",
    "#     ],\n",
    "#     \"Electronics\": [\n",
    "#         \"battery AA\",\n",
    "#         \"battery AAA\",\n",
    "#         \"USB cable\",\n",
    "#         \"HDMI cable\",\n",
    "#         \"phone charger\",\n",
    "#         \"power bank\",\n",
    "#         \"headphones\",\n",
    "#         \"bluetooth speaker\",\n",
    "#         \"LED bulb\",\n",
    "#         \"extension cord\",\n",
    "#         \"wireless mouse\",\n",
    "#         \"keyboard\",\n",
    "#     ],\n",
    "#     \"Books\": [\n",
    "#         \"novel\",\n",
    "#         \"textbook\",\n",
    "#         \"children book\",\n",
    "#         \"cookbook\",\n",
    "#         \"travel guide\",\n",
    "#         \"mystery novel\",\n",
    "#         \"sci-fi novel\",\n",
    "#         \"fantasy novel\",\n",
    "#         \"comic book\",\n",
    "#         \"workbook\",\n",
    "#         \"dictionary\",\n",
    "#         \"magazine\",\n",
    "#     ],\n",
    "#     \"Stationery\": [\n",
    "#         \"paper clips\",\n",
    "#         \"notebook\",\n",
    "#         \"gel pen\",\n",
    "#         \"highlighter\",\n",
    "#         \"stapler\",\n",
    "#         \"sticky notes\",\n",
    "#         \"binder\",\n",
    "#         \"eraser\",\n",
    "#         \"pencil\",\n",
    "#         \"marker\",\n",
    "#         \"correction tape\",\n",
    "#         \"ruler\",\n",
    "#     ],\n",
    "#     \"Tools\": [\n",
    "#         \"hammer\",\n",
    "#         \"screwdriver\",\n",
    "#         \"wrench\",\n",
    "#         \"drill bits\",\n",
    "#         \"pliers\",\n",
    "#         \"tape measure\",\n",
    "#         \"utility knife\",\n",
    "#         \"level\",\n",
    "#         \"sandpaper\",\n",
    "#         \"nails\",\n",
    "#         \"screws\",\n",
    "#         \"toolbox\",\n",
    "#     ],\n",
    "# }\n",
    "\n",
    "\n",
    "# def rand_timestamp() -> str:\n",
    "#     dt = fake.date_time_between(datetime(2010, 1, 1), datetime(2020, 1, 1))\n",
    "#     return dt.strftime(\"%Y-%m-%d %H:%M:%S\")\n",
    "\n",
    "\n",
    "# def rand_category() -> str:\n",
    "#     return random.choice(CATEGORIES)\n",
    "\n",
    "\n",
    "# def rand_items_for_category(category: str) -> str:\n",
    "#     pool = ITEMS_BY_CATEGORY[category]\n",
    "#     k = random.randint(MIN_ITEMS_PER_ROW, min(MAX_ITEMS_PER_ROW, len(pool)))\n",
    "#     return \",\".join(random.sample(pool, k))\n",
    "\n",
    "\n",
    "# def make_row(id5: str) -> str:\n",
    "#     ts = rand_timestamp()\n",
    "#     cat = rand_category()\n",
    "#     items = rand_items_for_category(cat)\n",
    "#     return f'{id5},\"{ts}\",\"{items}\",\"{cat}\"\\n'\n",
    "\n",
    "\n",
    "# # --- Estimate rows ---\n",
    "# SAMPLE_N = 1000\n",
    "# sample_bytes = sum(len(make_row(f\"{i:05d}\").encode(\"utf-8\")) for i in range(SAMPLE_N))\n",
    "# avg_bytes_per_row = sample_bytes / SAMPLE_N\n",
    "\n",
    "# total_rows_needed = math.ceil(TARGET_TOTAL_BYTES / avg_bytes_per_row)\n",
    "# if total_rows_needed > MAX_ID:\n",
    "#     raise SystemExit(\n",
    "#         f\"Requested ~{total_rows_needed} rows, but only {MAX_ID} unique IDs possible. \"\n",
    "#         f\"Either lower TARGET_TOTAL_BYTES or allow duplicate IDs.\"\n",
    "#     )\n",
    "\n",
    "# rows_per_file = max(1, total_rows_needed // NUM_FILES)\n",
    "# remainder_rows = total_rows_needed - (rows_per_file * NUM_FILES)\n",
    "\n",
    "# OUT_DIR.mkdir(parents=True, exist_ok=True)\n",
    "# if list(OUT_DIR.glob(\"part_*.csv\")):\n",
    "#     raise SystemExit(f\"Output directory {OUT_DIR} is not empty. Clear it first.\")\n",
    "\n",
    "# print(f\"Estimated avg bytes/row: {avg_bytes_per_row:.1f}\")\n",
    "# print(f\"Target total bytes:      {TARGET_TOTAL_BYTES:,}\")\n",
    "# print(f\"Total rows needed:       {total_rows_needed:,}\")\n",
    "# print(f\"Rows per file (base):    {rows_per_file}\")\n",
    "# print(f\"Files with +1 row:       {remainder_rows}\")\n",
    "\n",
    "# # --- Prepare unique IDs ---\n",
    "# print(\"Preparing unique IDs...\")\n",
    "# ids = [f\"{i:0{len(str(MAX_ID))-1}d}\" for i in range(MAX_ID)]\n",
    "# random.shuffle(ids)\n",
    "# ids = ids[:total_rows_needed]\n",
    "# id_iter = iter(ids)\n",
    "# print(\"IDs generated\")\n",
    "\n",
    "# # --- Generate files with tqdm ---\n",
    "# cumulative_bytes = 0\n",
    "# for i in tqdm(range(1, NUM_FILES + 1), desc=\"Generating CSV files\", unit=\"file\"):\n",
    "#     n_rows = rows_per_file + (1 if i <= remainder_rows else 0)\n",
    "#     fname = OUT_DIR / f\"part_{i:06d}.csv\"\n",
    "#     with open(fname, \"wb\") as f:\n",
    "#         for _ in range(n_rows):\n",
    "#             f.write(make_row(next(id_iter)).encode(\"utf-8\"))\n",
    "#     cumulative_bytes += fname.stat().st_size\n",
    "\n",
    "# print(\"\\nDone.\")\n",
    "# print(f\"Final size: {cumulative_bytes/1_000_000:.1f} MB\")"
   ]
  },
  {
   "cell_type": "markdown",
   "id": "52f3140a",
   "metadata": {},
   "source": [
    "## Task 03\n",
    "\n",
    "Write a script to read these files in a single Pandas dataframe. Use the ‘pd.concat()’ method and [\"id\", \"timestamp\", \"items\", \"category\"] as column names. To match all files at once you can use glob: ‘glob.glob(\"generated_small_csvs/*.csv\")’.\n",
    "\n",
    "As an output, your script should print “df.head()” and the amount of rows in a dataframe.\n",
    "\n",
    "Measure how much time it takes for this script to complete.\n"
   ]
  },
  {
   "cell_type": "code",
   "execution_count": 1,
   "id": "a81f5fd6",
   "metadata": {},
   "outputs": [],
   "source": [
    "import pandas as pd\n",
    "import glob\n",
    "import time\n",
    "import json\n",
    "import gzip\n",
    "import csv"
   ]
  },
  {
   "cell_type": "code",
   "execution_count": 2,
   "id": "94721b5d",
   "metadata": {},
   "outputs": [
    {
     "data": {
      "text/plain": [
       "['./generated_small_csvs/part_021337.csv',\n",
       " './generated_small_csvs/part_048381.csv',\n",
       " './generated_small_csvs/part_039578.csv',\n",
       " './generated_small_csvs/part_026458.csv',\n",
       " './generated_small_csvs/part_006788.csv']"
      ]
     },
     "execution_count": 2,
     "metadata": {},
     "output_type": "execute_result"
    }
   ],
   "source": [
    "csv_files = glob.glob(\"./generated_small_csvs/*csv\")\n",
    "csv_files[:5]"
   ]
  },
  {
   "cell_type": "code",
   "execution_count": 7,
   "id": "22526b98",
   "metadata": {},
   "outputs": [
    {
     "name": "stdout",
     "output_type": "stream",
     "text": [
      "\n",
      "Total Records: 9375762\n",
      "CPU times: user 22.8 s, sys: 12.2 s, total: 34.9 s\n",
      "Wall time: 47.7 s\n"
     ]
    },
    {
     "data": {
      "text/html": [
       "<div>\n",
       "<style scoped>\n",
       "    .dataframe tbody tr th:only-of-type {\n",
       "        vertical-align: middle;\n",
       "    }\n",
       "\n",
       "    .dataframe tbody tr th {\n",
       "        vertical-align: top;\n",
       "    }\n",
       "\n",
       "    .dataframe thead th {\n",
       "        text-align: right;\n",
       "    }\n",
       "</style>\n",
       "<table border=\"1\" class=\"dataframe\">\n",
       "  <thead>\n",
       "    <tr style=\"text-align: right;\">\n",
       "      <th></th>\n",
       "      <th>id</th>\n",
       "      <th>timestamp</th>\n",
       "      <th>items</th>\n",
       "      <th>category</th>\n",
       "    </tr>\n",
       "  </thead>\n",
       "  <tbody>\n",
       "    <tr>\n",
       "      <th>0</th>\n",
       "      <td>2728762</td>\n",
       "      <td>2010-01-03 19:43:11</td>\n",
       "      <td>highlighter,marker,eraser,pencil,paper clips,s...</td>\n",
       "      <td>Stationery</td>\n",
       "    </tr>\n",
       "    <tr>\n",
       "      <th>1</th>\n",
       "      <td>8933236</td>\n",
       "      <td>2014-07-05 16:11:56</td>\n",
       "      <td>plush bear,RC drone,slime,puzzle</td>\n",
       "      <td>Toys</td>\n",
       "    </tr>\n",
       "    <tr>\n",
       "      <th>2</th>\n",
       "      <td>1894763</td>\n",
       "      <td>2019-05-09 22:21:11</td>\n",
       "      <td>board game,action figure,puzzle,yo-yo,toy car,...</td>\n",
       "      <td>Toys</td>\n",
       "    </tr>\n",
       "    <tr>\n",
       "      <th>3</th>\n",
       "      <td>5764159</td>\n",
       "      <td>2015-02-27 16:08:06</td>\n",
       "      <td>yo-yo,doll,board game,toy car,RC drone,kite,ac...</td>\n",
       "      <td>Toys</td>\n",
       "    </tr>\n",
       "    <tr>\n",
       "      <th>4</th>\n",
       "      <td>3360477</td>\n",
       "      <td>2013-01-23 00:07:23</td>\n",
       "      <td>sci-fi novel,textbook,children book,magazine,c...</td>\n",
       "      <td>Books</td>\n",
       "    </tr>\n",
       "  </tbody>\n",
       "</table>\n",
       "</div>"
      ],
      "text/plain": [
       "        id            timestamp  \\\n",
       "0  2728762  2010-01-03 19:43:11   \n",
       "1  8933236  2014-07-05 16:11:56   \n",
       "2  1894763  2019-05-09 22:21:11   \n",
       "3  5764159  2015-02-27 16:08:06   \n",
       "4  3360477  2013-01-23 00:07:23   \n",
       "\n",
       "                                               items    category  \n",
       "0  highlighter,marker,eraser,pencil,paper clips,s...  Stationery  \n",
       "1                   plush bear,RC drone,slime,puzzle        Toys  \n",
       "2  board game,action figure,puzzle,yo-yo,toy car,...        Toys  \n",
       "3  yo-yo,doll,board game,toy car,RC drone,kite,ac...        Toys  \n",
       "4  sci-fi novel,textbook,children book,magazine,c...       Books  "
      ]
     },
     "execution_count": 7,
     "metadata": {},
     "output_type": "execute_result"
    }
   ],
   "source": [
    "%%time\n",
    "\n",
    "dfs = []\n",
    "for file in csv_files:\n",
    "    df = pd.read_csv(file, names=[\"id\", \"timestamp\", \"items\", \"category\"])\n",
    "    dfs.append(df)\n",
    "\n",
    "concatenated_df = pd.concat(dfs, ignore_index=True)\n",
    "\n",
    "print(f\"\\nTotal Records: {len(concatenated_df)}\")\n",
    "concatenated_df.head()"
   ]
  },
  {
   "cell_type": "markdown",
   "id": "00a95419",
   "metadata": {},
   "source": [
    "## Task 04\n",
    "\n",
    "If you installed GNU Parallel (see extras at the beginning):\n",
    "Run this script on your machine to merge all csv files into one:\n",
    "\n",
    "\n",
    "```~$ ls | parallel -m -j 8 \"cat {} >> transactions.csv”```\n",
    "\n",
    "Otherwise (without GNU Parallel):\n",
    "Modify the script from a previous step to save the merged dataset into a single CSV file.\n",
    "\n",
    "Now, write a new script to read that single file in Pandas using default read_csv(). \n",
    "\n",
    "Measure the time it takes for this script to complete.\n"
   ]
  },
  {
   "cell_type": "code",
   "execution_count": 8,
   "id": "be0d76ec",
   "metadata": {},
   "outputs": [
    {
     "name": "stdout",
     "output_type": "stream",
     "text": [
      "cat: \\033[34mgenerated_small_csvs\\033[m\\033[m: No such file or directory\n",
      "CPU times: user 3.16 ms, sys: 13 ms, total: 16.1 ms\n",
      "Wall time: 740 ms\n"
     ]
    }
   ],
   "source": [
    "%%time\n",
    "\n",
    "!rm -f transactions.csv\n",
    "\n",
    "!ls | parallel -m -j 8 \"cat {} >> transactions.csv\" "
   ]
  },
  {
   "cell_type": "code",
   "execution_count": 5,
   "id": "a936d67c",
   "metadata": {},
   "outputs": [],
   "source": [
    "!rm -f transactions.csv"
   ]
  },
  {
   "cell_type": "code",
   "execution_count": 29,
   "id": "8586febd",
   "metadata": {},
   "outputs": [
    {
     "name": "stdout",
     "output_type": "stream",
     "text": [
      "CPU times: user 23.7 s, sys: 6.52 s, total: 30.2 s\n",
      "Wall time: 49.6 s\n"
     ]
    },
    {
     "data": {
      "text/html": [
       "<div>\n",
       "<style scoped>\n",
       "    .dataframe tbody tr th:only-of-type {\n",
       "        vertical-align: middle;\n",
       "    }\n",
       "\n",
       "    .dataframe tbody tr th {\n",
       "        vertical-align: top;\n",
       "    }\n",
       "\n",
       "    .dataframe thead th {\n",
       "        text-align: right;\n",
       "    }\n",
       "</style>\n",
       "<table border=\"1\" class=\"dataframe\">\n",
       "  <thead>\n",
       "    <tr style=\"text-align: right;\">\n",
       "      <th></th>\n",
       "      <th>id</th>\n",
       "      <th>timestamp</th>\n",
       "      <th>items</th>\n",
       "      <th>category</th>\n",
       "    </tr>\n",
       "  </thead>\n",
       "  <tbody>\n",
       "    <tr>\n",
       "      <th>0</th>\n",
       "      <td>2728762</td>\n",
       "      <td>2010-01-03 19:43:11</td>\n",
       "      <td>highlighter,marker,eraser,pencil,paper clips,s...</td>\n",
       "      <td>Stationery</td>\n",
       "    </tr>\n",
       "    <tr>\n",
       "      <th>1</th>\n",
       "      <td>8933236</td>\n",
       "      <td>2014-07-05 16:11:56</td>\n",
       "      <td>plush bear,RC drone,slime,puzzle</td>\n",
       "      <td>Toys</td>\n",
       "    </tr>\n",
       "    <tr>\n",
       "      <th>2</th>\n",
       "      <td>1894763</td>\n",
       "      <td>2019-05-09 22:21:11</td>\n",
       "      <td>board game,action figure,puzzle,yo-yo,toy car,...</td>\n",
       "      <td>Toys</td>\n",
       "    </tr>\n",
       "    <tr>\n",
       "      <th>3</th>\n",
       "      <td>5764159</td>\n",
       "      <td>2015-02-27 16:08:06</td>\n",
       "      <td>yo-yo,doll,board game,toy car,RC drone,kite,ac...</td>\n",
       "      <td>Toys</td>\n",
       "    </tr>\n",
       "    <tr>\n",
       "      <th>4</th>\n",
       "      <td>3360477</td>\n",
       "      <td>2013-01-23 00:07:23</td>\n",
       "      <td>sci-fi novel,textbook,children book,magazine,c...</td>\n",
       "      <td>Books</td>\n",
       "    </tr>\n",
       "  </tbody>\n",
       "</table>\n",
       "</div>"
      ],
      "text/plain": [
       "        id            timestamp  \\\n",
       "0  2728762  2010-01-03 19:43:11   \n",
       "1  8933236  2014-07-05 16:11:56   \n",
       "2  1894763  2019-05-09 22:21:11   \n",
       "3  5764159  2015-02-27 16:08:06   \n",
       "4  3360477  2013-01-23 00:07:23   \n",
       "\n",
       "                                               items    category  \n",
       "0  highlighter,marker,eraser,pencil,paper clips,s...  Stationery  \n",
       "1                   plush bear,RC drone,slime,puzzle        Toys  \n",
       "2  board game,action figure,puzzle,yo-yo,toy car,...        Toys  \n",
       "3  yo-yo,doll,board game,toy car,RC drone,kite,ac...        Toys  \n",
       "4  sci-fi novel,textbook,children book,magazine,c...       Books  "
      ]
     },
     "execution_count": 29,
     "metadata": {},
     "output_type": "execute_result"
    }
   ],
   "source": [
    "%%time\n",
    "\n",
    "concatenated_df.to_csv(\"transactions.csv\", index=False)\n",
    "df = pd.read_csv(\"transactions.csv\")\n",
    "df.head()"
   ]
  },
  {
   "cell_type": "markdown",
   "id": "9fbf21be",
   "metadata": {},
   "source": [
    "### 05 - Three options\n",
    "\n",
    "\n",
    "Modify the script from the previous step to print 10 random rows from the whole dataset and the category which is most common among those 10 rows.\n",
    "\n",
    "Now, take a look at these three Python functions:\n"
   ]
  },
  {
   "cell_type": "code",
   "execution_count": 14,
   "id": "ff1b4cd0",
   "metadata": {},
   "outputs": [],
   "source": [
    "# function 1\n",
    "def get_csv_data_pandas(filename, category, idset):\n",
    "    df = pd.read_csv(filename)\n",
    "    return df[(df[\"id\"].isin(idset)) & (df[\"category\"] == category)].to_dict(\"records\")"
   ]
  },
  {
   "cell_type": "code",
   "execution_count": 13,
   "id": "faa32d8e",
   "metadata": {},
   "outputs": [
    {
     "name": "stdout",
     "output_type": "stream",
     "text": [
      "{7887841, 8045318, 7086087, 628553, 3967178, 8685240, 6593524, 9473974, 5339320, 1246046}\n",
      "['Stationery' 'Toys' 'Books' 'Food' 'Electronics' 'Tools']\n"
     ]
    }
   ],
   "source": [
    "df = pd.read_csv(\n",
    "    \"transactions.csv\",\n",
    ")\n",
    "\n",
    "idset = set(df[\"id\"].sample(10, random_state=42))\n",
    "\n",
    "print(idset)\n",
    "print(df[\"category\"].unique())"
   ]
  },
  {
   "cell_type": "code",
   "execution_count": 15,
   "id": "5653f3a1",
   "metadata": {},
   "outputs": [
    {
     "name": "stdout",
     "output_type": "stream",
     "text": [
      "Time taken: 13.23\n",
      "Result: [\n",
      "  {\n",
      "    \"id\": 9473974,\n",
      "    \"timestamp\": \"2016-01-18 10:56:22\",\n",
      "    \"items\": \"marker,highlighter,binder,eraser,pencil,gel pen,stapler,correction tape,ruler,notebook\",\n",
      "    \"category\": \"Stationery\"\n",
      "  }\n",
      "]\n"
     ]
    }
   ],
   "source": [
    "start = time.perf_counter()\n",
    "\n",
    "result = get_csv_data_pandas(\"transactions.csv\", \"Stationery\", idset)\n",
    "\n",
    "end = time.perf_counter()\n",
    "\n",
    "print(f\"Time taken: {end - start:.2f}\\nResult: {json.dumps(result, indent=2)}\")"
   ]
  },
  {
   "cell_type": "code",
   "execution_count": 16,
   "id": "e2790edf",
   "metadata": {},
   "outputs": [],
   "source": [
    "# function 2\n",
    "\n",
    "\n",
    "def get_csv_data_raw(filename, category, idset):\n",
    "    data = []\n",
    "    with gzip.open(filename, \"rt\") as r_file:\n",
    "        f = csv.DictReader(r_file)\n",
    "        for line in f:\n",
    "            if int(line[\"id\"]) in idset and line[\"category\"] == category:\n",
    "                line[\"id\"] = int(line[\"id\"])\n",
    "                data.append(line)\n",
    "    return data"
   ]
  },
  {
   "cell_type": "code",
   "execution_count": 17,
   "id": "69cdf6b0",
   "metadata": {},
   "outputs": [],
   "source": [
    "!gzip ./transactions.csv"
   ]
  },
  {
   "cell_type": "code",
   "execution_count": 18,
   "id": "ce716433",
   "metadata": {},
   "outputs": [
    {
     "name": "stdout",
     "output_type": "stream",
     "text": [
      "Time taken: 13.45\n",
      "Result: [\n",
      "  {\n",
      "    \"id\": 9473974,\n",
      "    \"timestamp\": \"2016-01-18 10:56:22\",\n",
      "    \"items\": \"marker,highlighter,binder,eraser,pencil,gel pen,stapler,correction tape,ruler,notebook\",\n",
      "    \"category\": \"Stationery\"\n",
      "  }\n",
      "]\n"
     ]
    }
   ],
   "source": [
    "start = time.perf_counter()\n",
    "\n",
    "result = get_csv_data_raw(\"transactions.csv.gz\", \"Stationery\", idset)\n",
    "\n",
    "end = time.perf_counter()\n",
    "\n",
    "print(f\"Time taken: {end - start:.2f}\\nResult: {json.dumps(result, indent=2)}\")"
   ]
  },
  {
   "cell_type": "code",
   "execution_count": null,
   "id": "8de6f2a1",
   "metadata": {},
   "outputs": [],
   "source": [
    "# function 3\n",
    "\n",
    "\n",
    "def get_csv_data_raw2(filename, category, idset):\n",
    "    data = []\n",
    "    with gzip.open(filename, \"rt\", encoding=\"utf-8\") as r_file:\n",
    "        header_line = r_file.readline().rstrip(\"\\n\")\n",
    "        # headers\n",
    "        names = header_line.split(\",\")\n",
    "\n",
    "        for line in r_file:\n",
    "            if category in line:\n",
    "                parts = next(csv.reader([line]))\n",
    "                if int(parts[0]) in idset:\n",
    "                    data.append(\n",
    "                        {\n",
    "                            f: int(val) if f == \"id\" else val.strip('\"')\n",
    "                            for f, val in zip(names, parts)\n",
    "                        }\n",
    "                    )\n",
    "    return data"
   ]
  },
  {
   "cell_type": "code",
   "execution_count": 40,
   "id": "17cd3ad9",
   "metadata": {},
   "outputs": [
    {
     "name": "stdout",
     "output_type": "stream",
     "text": [
      "Time taken: 4.40\n",
      "Result: [\n",
      "  {\n",
      "    \"id\": 9473974,\n",
      "    \"timestamp\": \"2016-01-18 10:56:22\",\n",
      "    \"items\": \"marker,highlighter,binder,eraser,pencil,gel pen,stapler,correction tape,ruler,notebook\",\n",
      "    \"category\": \"Stationery\"\n",
      "  }\n",
      "]\n"
     ]
    }
   ],
   "source": [
    "start = time.perf_counter()\n",
    "\n",
    "result = get_csv_data_raw2(\"transactions.csv.gz\", \"Stationery\", idset)\n",
    "\n",
    "end = time.perf_counter()\n",
    "\n",
    "print(f\"Time taken: {end - start:.2f}\\nResult: {json.dumps(result, indent=2)}\")"
   ]
  }
 ],
 "metadata": {
  "kernelspec": {
   "display_name": "de-lab",
   "language": "python",
   "name": "python3"
  },
  "language_info": {
   "codemirror_mode": {
    "name": "ipython",
    "version": 3
   },
   "file_extension": ".py",
   "mimetype": "text/x-python",
   "name": "python",
   "nbconvert_exporter": "python",
   "pygments_lexer": "ipython3",
   "version": "3.11.6"
  }
 },
 "nbformat": 4,
 "nbformat_minor": 5
}
