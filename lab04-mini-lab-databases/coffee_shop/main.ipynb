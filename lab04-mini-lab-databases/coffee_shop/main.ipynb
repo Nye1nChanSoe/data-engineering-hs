{
 "cells": [
  {
   "cell_type": "code",
   "execution_count": 19,
   "id": "cfef3527",
   "metadata": {},
   "outputs": [],
   "source": [
    "from redis import Redis\n",
    "import time"
   ]
  },
  {
   "cell_type": "code",
   "execution_count": 20,
   "id": "20fa191d",
   "metadata": {},
   "outputs": [
    {
     "name": "stdout",
     "output_type": "stream",
     "text": [
      "Conntected, DB cleared\n"
     ]
    }
   ],
   "source": [
    "r = Redis('localhost', 6379, decode_responses=True)\n",
    "r.flushdb()\n",
    "\n",
    "print('Conntected, DB cleared')"
   ]
  },
  {
   "cell_type": "code",
   "execution_count": 21,
   "id": "c243f999",
   "metadata": {},
   "outputs": [
    {
     "name": "stdout",
     "output_type": "stream",
     "text": [
      "Customer ->  Alice Johnson\n"
     ]
    }
   ],
   "source": [
    "r.set('customer:alice', \"Alice Johnson\")\n",
    "print('Customer -> ', r.get('customer:alice'))"
   ]
  },
  {
   "cell_type": "code",
   "execution_count": 22,
   "id": "44f8b159",
   "metadata": {},
   "outputs": [
    {
     "name": "stdout",
     "output_type": "stream",
     "text": [
      "Vists before any increment: None\n",
      "First Visit: 1\n",
      "Second Visit: 2\n",
      "Now stored in Redis: 2\n"
     ]
    }
   ],
   "source": [
    "print('Vists before any increment:', r.get('visits:alice'))\n",
    "print('First Visit:', r.incr('visits:alice'))\n",
    "print('Second Visit:', r.incr('visits:alice'))\n",
    "print('Now stored in Redis:', r.get('visits:alice'))"
   ]
  },
  {
   "cell_type": "code",
   "execution_count": null,
   "id": "541e5e0d",
   "metadata": {},
   "outputs": [
    {
     "name": "stdout",
     "output_type": "stream",
     "text": [
      "Discount code -> SAVE10\n",
      "TTL (seconds remaining) -> 10\n",
      "After 11s, discount code -> None\n",
      "TTL after expiry -> -2\n"
     ]
    }
   ],
   "source": [
    "r.set('discount:alice', \"SAVE10\", ex=10)\n",
    "\n",
    "print(\"Discount code ->\", r.get(\"discount:alice\"))\n",
    "print(\"TTL (seconds remaining) ->\", r.ttl(\"discount:alice\"))\n",
    "\n",
    "time.sleep(11)\n",
    "\n",
    "\n",
    "print(\"After 11s, discount code ->\", r.get(\"discount:alice\"))\n",
    "# -2 means no key\n",
    "print(\"TTL after expiry ->\", r.ttl(\"discount:alice\"))"
   ]
  }
 ],
 "metadata": {
  "kernelspec": {
   "display_name": "de-lab",
   "language": "python",
   "name": "python3"
  },
  "language_info": {
   "codemirror_mode": {
    "name": "ipython",
    "version": 3
   },
   "file_extension": ".py",
   "mimetype": "text/x-python",
   "name": "python",
   "nbconvert_exporter": "python",
   "pygments_lexer": "ipython3",
   "version": "3.11.6"
  }
 },
 "nbformat": 4,
 "nbformat_minor": 5
}
