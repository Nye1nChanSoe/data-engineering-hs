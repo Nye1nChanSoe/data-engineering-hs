{
 "cells": [
  {
   "cell_type": "code",
   "execution_count": 1,
   "id": "7626f3de",
   "metadata": {},
   "outputs": [],
   "source": [
    "import duckdb"
   ]
  },
  {
   "cell_type": "code",
   "execution_count": 2,
   "id": "a69470f8",
   "metadata": {},
   "outputs": [
    {
     "name": "stdout",
     "output_type": "stream",
     "text": [
      "Connected to DuckDB\n"
     ]
    }
   ],
   "source": [
    "con = duckdb.connect(\"database.ddb\")\n",
    "print(\"Connected to DuckDB\")"
   ]
  },
  {
   "cell_type": "code",
   "execution_count": 3,
   "id": "736fdf37",
   "metadata": {},
   "outputs": [
    {
     "name": "stdout",
     "output_type": "stream",
     "text": [
      "Seeded tables: characters & planets\n"
     ]
    }
   ],
   "source": [
    "con.execute(\"\"\"\n",
    "CREATE TABLE characters(\n",
    "  name VARCHAR,\n",
    "  affiliation VARCHAR,  -- 'Jedi','Sith','Rebel','Empire', etc.\n",
    "  species VARCHAR,\n",
    "  homeworld VARCHAR,\n",
    "  midichlorians INTEGER\n",
    ");\n",
    "\"\"\")\n",
    "\n",
    "con.execute(\"\"\"\n",
    "INSERT INTO characters VALUES\n",
    "  ('Luke Skywalker','Jedi','Human','Tatooine',15000),\n",
    "  ('Leia Organa','Rebel','Human','Alderaan',4000),\n",
    "  ('Han Solo','Rebel','Human','Corellia',3000),\n",
    "  ('Darth Vader','Sith','Human','Tatooine',20000),\n",
    "  ('Yoda','Jedi','Unknown','Dagobah',17500),\n",
    "  ('Obi-Wan Kenobi','Jedi','Human','Stewjon',16000),\n",
    "  ('Emperor Palpatine','Sith','Human','Naboo',19000);\n",
    "\"\"\")\n",
    "\n",
    "con.execute(\"\"\"\n",
    "CREATE TABLE planets(\n",
    "  name VARCHAR,\n",
    "  climate VARCHAR,\n",
    "  region VARCHAR\n",
    ");\n",
    "\"\"\")\n",
    "\n",
    "con.execute(\"\"\"\n",
    "INSERT INTO planets VALUES\n",
    "  ('Tatooine','desert','Outer Rim'),\n",
    "  ('Alderaan','temperate','Core'),\n",
    "  ('Corellia','temperate','Core'),\n",
    "  ('Dagobah','swamp','Outer Rim'),\n",
    "  ('Stewjon','temperate','Unknown'),\n",
    "  ('Naboo','temperate','Mid Rim'),\n",
    "  ('Coruscant','urban','Core');\n",
    "\"\"\")\n",
    "\n",
    "print(\"Seeded tables: characters & planets\")"
   ]
  },
  {
   "cell_type": "markdown",
   "id": "ccfe15d3",
   "metadata": {},
   "source": [
    "### Basic Select & Filtering"
   ]
  },
  {
   "cell_type": "code",
   "execution_count": 4,
   "id": "47dd7209",
   "metadata": {},
   "outputs": [
    {
     "name": "stdout",
     "output_type": "stream",
     "text": [
      "[('Luke Skywalker', 'Jedi', 'Human', 'Tatooine', 15000), ('Leia Organa', 'Rebel', 'Human', 'Alderaan', 4000), ('Han Solo', 'Rebel', 'Human', 'Corellia', 3000), ('Darth Vader', 'Sith', 'Human', 'Tatooine', 20000), ('Yoda', 'Jedi', 'Unknown', 'Dagobah', 17500)]\n",
      "[('Yoda', 'Dagobah', 17500), ('Obi-Wan Kenobi', 'Stewjon', 16000), ('Luke Skywalker', 'Tatooine', 15000)]\n",
      "[('Luke Skywalker', 'Jedi')]\n"
     ]
    }
   ],
   "source": [
    "print(con.execute(\"SELECT * FROM characters LIMIT 5\").fetchall())\n",
    "\n",
    "# Only Jedi\n",
    "print(\n",
    "    con.execute(\"\"\"\n",
    "  SELECT name, homeworld, midichlorians\n",
    "  FROM characters\n",
    "  WHERE affiliation = 'Jedi'\n",
    "  ORDER BY midichlorians DESC\n",
    "\"\"\").fetchall()\n",
    ")\n",
    "\n",
    "# Case-insensitive search (ILIKE)\n",
    "print(\n",
    "    con.execute(\"\"\"\n",
    "  SELECT name, affiliation\n",
    "  FROM characters\n",
    "  WHERE name ILIKE '%sky%'\n",
    "\"\"\").fetchall()\n",
    ")"
   ]
  },
  {
   "cell_type": "markdown",
   "id": "9555c1d5",
   "metadata": {},
   "source": [
    "### Aggregation"
   ]
  },
  {
   "cell_type": "code",
   "execution_count": 5,
   "id": "2c9ad4a2",
   "metadata": {},
   "outputs": [
    {
     "name": "stdout",
     "output_type": "stream",
     "text": [
      "[('Jedi', 3), ('Rebel', 2), ('Sith', 2)]\n",
      "[('Sith', 19500), ('Jedi', 16167), ('Rebel', 3500)]\n"
     ]
    }
   ],
   "source": [
    "# Count by affiliation\n",
    "print(\n",
    "    con.execute(\"\"\"\n",
    "  SELECT affiliation, COUNT(*) AS n\n",
    "  FROM characters\n",
    "  GROUP BY affiliation\n",
    "  ORDER BY n DESC\n",
    "\"\"\").fetchall()\n",
    ")\n",
    "\n",
    "# Average midichlorians by affiliation (demo)\n",
    "print(\n",
    "    con.execute(\"\"\"\n",
    "  SELECT affiliation, AVG(midichlorians)::INTEGER AS avg_m_count\n",
    "  FROM characters\n",
    "  GROUP BY affiliation\n",
    "  ORDER BY avg_m_count DESC\n",
    "\"\"\").fetchall()\n",
    ")"
   ]
  },
  {
   "cell_type": "markdown",
   "id": "bb74b3f3",
   "metadata": {},
   "source": [
    "### Join with planets"
   ]
  },
  {
   "cell_type": "code",
   "execution_count": 6,
   "id": "59c15bef",
   "metadata": {},
   "outputs": [
    {
     "name": "stdout",
     "output_type": "stream",
     "text": [
      "[('Darth Vader', 'Sith', 'Tatooine', 'desert', 'Outer Rim'), ('Emperor Palpatine', 'Sith', 'Naboo', 'temperate', 'Mid Rim'), ('Han Solo', 'Rebel', 'Corellia', 'temperate', 'Core'), ('Leia Organa', 'Rebel', 'Alderaan', 'temperate', 'Core'), ('Luke Skywalker', 'Jedi', 'Tatooine', 'desert', 'Outer Rim'), ('Obi-Wan Kenobi', 'Jedi', 'Stewjon', 'temperate', 'Unknown'), ('Yoda', 'Jedi', 'Dagobah', 'swamp', 'Outer Rim')]\n",
      "[('temperate', 4), ('desert', 2), ('swamp', 1)]\n"
     ]
    }
   ],
   "source": [
    "# Characters with planet climate & region\n",
    "print(\n",
    "    con.execute(\"\"\"\n",
    "  SELECT c.name, c.affiliation, c.homeworld, p.climate, p.region\n",
    "  FROM characters c\n",
    "  LEFT JOIN planets p ON c.homeworld = p.name\n",
    "  ORDER BY c.name\n",
    "\"\"\").fetchall()\n",
    ")\n",
    "\n",
    "# How many characters by planet climate?\n",
    "print(\n",
    "    con.execute(\"\"\"\n",
    "  SELECT p.climate, COUNT(*) AS n_chars\n",
    "  FROM characters c\n",
    "  JOIN planets p ON c.homeworld = p.name\n",
    "  GROUP BY p.climate\n",
    "  ORDER BY n_chars DESC\n",
    "\"\"\").fetchall()\n",
    ")"
   ]
  },
  {
   "cell_type": "code",
   "execution_count": 7,
   "id": "615c2419",
   "metadata": {},
   "outputs": [
    {
     "name": "stdout",
     "output_type": "stream",
     "text": [
      "[('Yoda', 'Dagobah', 17500), ('Obi-Wan Kenobi', 'Stewjon', 16000), ('Luke Skywalker', 'Tatooine', 15000)]\n"
     ]
    }
   ],
   "source": [
    "# Write a view of Jedi to Parquet\n",
    "con.execute(\"\"\"\n",
    "  COPY (\n",
    "    SELECT name, homeworld, midichlorians\n",
    "    FROM characters\n",
    "    WHERE affiliation = 'Jedi'\n",
    "  ) TO 'jedi.parquet' (FORMAT 'parquet');\n",
    "\"\"\")\n",
    "\n",
    "# Query the Parquet file directly (no table needed)\n",
    "print(\n",
    "    con.execute(\"SELECT * FROM 'jedi.parquet' ORDER BY midichlorians DESC\").fetchall()\n",
    ")"
   ]
  }
 ],
 "metadata": {
  "kernelspec": {
   "display_name": "de-lab",
   "language": "python",
   "name": "python3"
  },
  "language_info": {
   "codemirror_mode": {
    "name": "ipython",
    "version": 3
   },
   "file_extension": ".py",
   "mimetype": "text/x-python",
   "name": "python",
   "nbconvert_exporter": "python",
   "pygments_lexer": "ipython3",
   "version": "3.11.6"
  }
 },
 "nbformat": 4,
 "nbformat_minor": 5
}
