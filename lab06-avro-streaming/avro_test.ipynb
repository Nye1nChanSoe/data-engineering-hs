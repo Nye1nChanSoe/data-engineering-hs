{
 "cells": [
  {
   "cell_type": "code",
   "execution_count": 1,
   "id": "b167c45a",
   "metadata": {},
   "outputs": [],
   "source": [
    "from fastavro import writer, reader, parse_schema\n",
    "\n",
    "schema = {\n",
    "    \"doc\": \"A weather reading.\",\n",
    "    \"name\": \"Weather\",\n",
    "    \"namespace\": \"test\",\n",
    "    \"type\": \"record\",\n",
    "    \"fields\": [\n",
    "        {\"name\": \"station\", \"type\": \"string\"},\n",
    "        {\"name\": \"time\", \"type\": \"long\"},\n",
    "        {\"name\": \"temp\", \"type\": \"int\"},\n",
    "    ],\n",
    "}\n",
    "parsed_schema = parse_schema(schema)"
   ]
  },
  {
   "cell_type": "code",
   "execution_count": 2,
   "id": "07dca204",
   "metadata": {},
   "outputs": [],
   "source": [
    "# 'records' can be an iterable (including generator)\n",
    "records = [\n",
    "    {\"station\": \"011990-99999\", \"temp\": 0, \"time\": 1433269388},\n",
    "    {\"station\": \"011990-99999\", \"temp\": 22, \"time\": 1433270389},\n",
    "    {\"station\": \"011990-99999\", \"temp\": -11, \"time\": 1433273379},\n",
    "    {\"station\": \"012650-99999\", \"temp\": 111, \"time\": 1433275478},\n",
    "]"
   ]
  },
  {
   "cell_type": "code",
   "execution_count": 3,
   "id": "62a91bbd",
   "metadata": {},
   "outputs": [],
   "source": [
    "# Writing\n",
    "with open(\"weather.avro\", \"wb\") as out:\n",
    "    writer(out, parsed_schema, records)"
   ]
  },
  {
   "cell_type": "code",
   "execution_count": 4,
   "id": "3cc7b6f7",
   "metadata": {},
   "outputs": [
    {
     "name": "stdout",
     "output_type": "stream",
     "text": [
      "{'station': '011990-99999', 'time': 1433269388, 'temp': 0}\n",
      "{'station': '011990-99999', 'time': 1433270389, 'temp': 22}\n",
      "{'station': '011990-99999', 'time': 1433273379, 'temp': -11}\n",
      "{'station': '012650-99999', 'time': 1433275478, 'temp': 111}\n"
     ]
    }
   ],
   "source": [
    "# Reading\n",
    "with open(\"weather.avro\", \"rb\") as fo:\n",
    "    for record in reader(fo):\n",
    "        print(record)"
   ]
  }
 ],
 "metadata": {
  "kernelspec": {
   "display_name": "de-lab",
   "language": "python",
   "name": "python3"
  },
  "language_info": {
   "codemirror_mode": {
    "name": "ipython",
    "version": 3
   },
   "file_extension": ".py",
   "mimetype": "text/x-python",
   "name": "python",
   "nbconvert_exporter": "python",
   "pygments_lexer": "ipython3",
   "version": "3.11.6"
  }
 },
 "nbformat": 4,
 "nbformat_minor": 5
}
