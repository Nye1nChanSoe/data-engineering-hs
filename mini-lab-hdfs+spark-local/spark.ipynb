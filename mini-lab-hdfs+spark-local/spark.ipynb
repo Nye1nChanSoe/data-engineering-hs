{
 "cells": [
  {
   "cell_type": "code",
   "execution_count": 16,
   "id": "e95ef430",
   "metadata": {},
   "outputs": [],
   "source": [
    "from pyspark.sql import SparkSession\n",
    "from pyspark.sql.types import StructType, StructField, StringType, IntegerType"
   ]
  },
  {
   "cell_type": "code",
   "execution_count": 17,
   "id": "4a8ccd5d",
   "metadata": {},
   "outputs": [
    {
     "name": "stdout",
     "output_type": "stream",
     "text": [
      "\n",
      "===== Spark Context Info =====\n",
      "App Name      : Test Spark\n",
      "Master        : local[2]\n",
      "Application ID: local-1758015496717\n",
      "UI Web URL    : http://172.20.10.14:4040\n",
      "Version       : 4.0.1\n",
      "Python Ver    : 3.11\n"
     ]
    }
   ],
   "source": [
    "spark = (\n",
    "    SparkSession.builder.appName(\"Test Spark\")\n",
    "    # run with 2 threads\n",
    "    .master(\"local[2]\")\n",
    "    # use arrow\n",
    "    .config(\"spark.sql.execution.arrow.pyspark.enabled\", \"true\")\n",
    "    # use hdfs\n",
    "    .config(\"spark.hadoop.fs.defaultFS\", \"hdfs://127.0.0.1:9000\")\n",
    "    .getOrCreate()\n",
    ")\n",
    "\n",
    "spark_context = spark.sparkContext.getOrCreate()\n",
    "\n",
    "print(\"\\n===== Spark Context Info =====\")\n",
    "print(f\"App Name      : {spark_context.appName}\")\n",
    "print(f\"Master        : {spark_context.master}\")\n",
    "print(f\"Application ID: {spark_context.applicationId}\")\n",
    "print(f\"UI Web URL    : {spark_context.uiWebUrl}\")\n",
    "print(f\"Version       : {spark_context.version}\")\n",
    "print(f\"Python Ver    : {spark_context.pythonVer}\")"
   ]
  },
  {
   "cell_type": "code",
   "execution_count": 18,
   "id": "555285b0",
   "metadata": {},
   "outputs": [
    {
     "name": "stdout",
     "output_type": "stream",
     "text": [
      "+-------+---+-------------+\n",
      "|   name|age|         city|\n",
      "+-------+---+-------------+\n",
      "|  Alice| 29|     New York|\n",
      "|    Bob| 35|San Francisco|\n",
      "|Charlie| 40|       London|\n",
      "|  Diana| 23|       Berlin|\n",
      "|  Ethan| 31|       Sydney|\n",
      "+-------+---+-------------+\n",
      "\n",
      "== Parsed Logical Plan ==\n",
      "LogicalRDD [name#54, age#55, city#56], false\n",
      "\n",
      "== Analyzed Logical Plan ==\n",
      "name: string, age: int, city: string\n",
      "LogicalRDD [name#54, age#55, city#56], false\n",
      "\n",
      "== Optimized Logical Plan ==\n",
      "LogicalRDD [name#54, age#55, city#56], false\n",
      "\n",
      "== Physical Plan ==\n",
      "*(1) Scan ExistingRDD[name#54,age#55,city#56]\n",
      "\n"
     ]
    }
   ],
   "source": [
    "schema = StructType(\n",
    "    [\n",
    "        StructField(\"name\", StringType(), False),\n",
    "        StructField(\"age\", IntegerType(), False),\n",
    "        StructField(\"city\", StringType(), False),\n",
    "    ]\n",
    ")\n",
    "\n",
    "df = spark.createDataFrame(\n",
    "    [\n",
    "        {\"name\": \"Alice\", \"age\": 29, \"city\": \"New York\"},\n",
    "        {\"name\": \"Bob\", \"age\": 35, \"city\": \"San Francisco\"},\n",
    "        {\"name\": \"Charlie\", \"age\": 40, \"city\": \"London\"},\n",
    "        {\"name\": \"Diana\", \"age\": 23, \"city\": \"Berlin\"},\n",
    "        {\"name\": \"Ethan\", \"age\": 31, \"city\": \"Sydney\"},\n",
    "    ],\n",
    "    schema,\n",
    ")\n",
    "\n",
    "\n",
    "df.show()\n",
    "df.explain(\"extended\")"
   ]
  },
  {
   "cell_type": "code",
   "execution_count": 19,
   "id": "618c8389",
   "metadata": {},
   "outputs": [],
   "source": [
    "df.write.mode(\"overwrite\").parquet(\"hdfs:///users/nyeinchan/hdfs-data\")"
   ]
  },
  {
   "cell_type": "code",
   "execution_count": 20,
   "id": "efc2cd2a",
   "metadata": {},
   "outputs": [],
   "source": [
    "new_df = spark.read.parquet(\"hdfs:///users/nyeinchan/hdfs-data\")"
   ]
  },
  {
   "cell_type": "code",
   "execution_count": 21,
   "id": "6f65e7f6",
   "metadata": {},
   "outputs": [
    {
     "name": "stdout",
     "output_type": "stream",
     "text": [
      "+-------+---+-------------+\n",
      "|   name|age|         city|\n",
      "+-------+---+-------------+\n",
      "|Charlie| 40|       London|\n",
      "|  Diana| 23|       Berlin|\n",
      "|  Ethan| 31|       Sydney|\n",
      "|  Alice| 29|     New York|\n",
      "|    Bob| 35|San Francisco|\n",
      "+-------+---+-------------+\n",
      "\n"
     ]
    }
   ],
   "source": [
    "new_df.show()"
   ]
  }
 ],
 "metadata": {
  "kernelspec": {
   "display_name": "de-lab",
   "language": "python",
   "name": "python3"
  },
  "language_info": {
   "codemirror_mode": {
    "name": "ipython",
    "version": 3
   },
   "file_extension": ".py",
   "mimetype": "text/x-python",
   "name": "python",
   "nbconvert_exporter": "python",
   "pygments_lexer": "ipython3",
   "version": "3.11.6"
  }
 },
 "nbformat": 4,
 "nbformat_minor": 5
}
